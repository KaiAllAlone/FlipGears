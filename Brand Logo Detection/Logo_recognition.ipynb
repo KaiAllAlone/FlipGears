{
  "nbformat": 4,
  "nbformat_minor": 0,
  "metadata": {
    "colab": {
      "provenance": [],
      "gpuType": "T4"
    },
    "kernelspec": {
      "name": "python3",
      "display_name": "Python 3"
    },
    "language_info": {
      "name": "python"
    },
    "accelerator": "GPU"
  },
  "cells": [
    {
      "cell_type": "markdown",
      "source": [
        "Importing Dataset:-"
      ],
      "metadata": {
        "id": "G2eaUxWQUMUr"
      }
    },
    {
      "cell_type": "code",
      "execution_count": null,
      "metadata": {
        "id": "PtBGmAvURdEx"
      },
      "outputs": [],
      "source": [
        "!pip install roboflow\n",
        "\n",
        "from roboflow import Roboflow\n",
        "rf = Roboflow(api_key=\"FzVE3dXWshCLUYa2iNUS\")\n",
        "project = rf.workspace(\"bodydetectionsih\").project(\"brand-logo-detection-rupy9\")\n",
        "version = project.version(2)\n",
        "dataset = version.download(\"yolov8\")\n",
        "\n"
      ]
    },
    {
      "cell_type": "markdown",
      "source": [
        "Training:-"
      ],
      "metadata": {
        "id": "AxvnbbnZUGeU"
      }
    },
    {
      "cell_type": "code",
      "source": [
        "!pip install ultralytics\n",
        "from ultralytics import YOLO\n",
        "yolo=YOLO('yolov8n.pt')\n",
        "train_result=yolo.train(data=\"/content/Brand-Logo-Detection-2/data.yaml\",epochs=150)\n",
        "print(train_result)\n"
      ],
      "metadata": {
        "id": "xVOn8xz2RnFf"
      },
      "execution_count": null,
      "outputs": []
    }
  ]
}