{
  "nbformat": 4,
  "nbformat_minor": 0,
  "metadata": {
    "colab": {
      "provenance": [],
      "gpuType": "T4"
    },
    "kernelspec": {
      "name": "python3",
      "display_name": "Python 3"
    },
    "language_info": {
      "name": "python"
    },
    "accelerator": "GPU"
  },
  "cells": [
    {
      "cell_type": "markdown",
      "source": [
        "Importing Dataset:-"
      ],
      "metadata": {
        "id": "P9M9zSQSHbiF"
      }
    },
    {
      "cell_type": "code",
      "execution_count": null,
      "metadata": {
        "id": "_T0O6Ei-4ueW"
      },
      "outputs": [],
      "source": [
        "!pip install roboflow\n",
        "!pip install ultralytics\n",
        "from roboflow import Roboflow\n",
        "rf = Roboflow(api_key=\"FzVE3dXWshCLUYa2iNUS\")\n",
        "project = rf.workspace(\"bodydetectionsih\").project(\"fruits-wkspq\")\n",
        "version = project.version(3)\n",
        "dataset = version.download(\"yolov8\")\n"
      ]
    },
    {
      "cell_type": "markdown",
      "source": [
        "Training Model:-"
      ],
      "metadata": {
        "id": "MHp9mhxdHkCE"
      }
    },
    {
      "cell_type": "code",
      "source": [
        "from ultralytics import YOLO\n",
        "model=YOLO(\"yolov8n.pt\")\n",
        "result=model.train(data=\"/content/fruits-3/data.yaml\",epochs=80)"
      ],
      "metadata": {
        "id": "JTDWIFM94xiX"
      },
      "execution_count": null,
      "outputs": []
    }
  ]
}